{
 "cells": [
  {
   "cell_type": "code",
   "execution_count": 1,
   "id": "ceddc4ab",
   "metadata": {},
   "outputs": [],
   "source": [
    "import pandas as pd\n",
    "import numpy as  np\n",
    "from sklearn.linear_model import LogisticRegression\n",
    "from sklearn.feature_extraction.text import TfidfVectorizer\n",
    "from matplotlib import pyplot as plt\n",
    "from sklearn.model_selection import train_test_split,cross_val_score\n",
    "from sklearn.metrics import accuracy_score, precision_score, recall_score, f1_score, confusion_matrix\n",
    "\n",
    "pd.set_option('display.max_columns', None)\n",
    "pd.set_option('display.float_format',lambda x : '%.2f' % x)\n"
   ]
  },
  {
   "cell_type": "code",
   "execution_count": 11,
   "id": "bdbb5434",
   "metadata": {},
   "outputs": [],
   "source": [
    "# product data\n",
    "product_data_0 = pd.read_csv('dataset/products-data-0.tsv', sep = '\\t', names = ['id', 'category', 'product_title'])\n",
    "product_data_1 = pd.read_csv('dataset/products-data-1.tsv', sep = '\\t', names = ['id', 'category', 'product_title'])\n",
    "product_data_2 = pd.read_csv('dataset/products-data-2.tsv', sep = '\\t', names = ['id', 'category', 'product_title'])\n",
    "product_data_3 = pd.read_csv('dataset/products-data-3.tsv', sep = '\\t', names = ['id', 'category', 'product_title'])\n",
    "\n",
    "product_data = pd.concat([product_data_0, product_data_1, product_data_2, product_data_3], axis = 0)"
   ]
  },
  {
   "cell_type": "code",
   "execution_count": 15,
   "id": "362c1bb4",
   "metadata": {},
   "outputs": [],
   "source": [
    "# review data\n",
    "review_data_0 = pd.read_csv('dataset/reviews-0.tsv', sep = '\\t', names = ['id', 'rating', 'review_text'])\n",
    "review_data_1 = pd.read_csv('dataset/reviews-1.tsv', sep = '\\t', names = ['id', 'rating', 'review_text'])\n",
    "review_data_2 = pd.read_csv('dataset/reviews-2.tsv', sep = '\\t', names = ['id', 'rating', 'review_text'])\n",
    "review_data_3 = pd.read_csv('dataset/reviews-3.tsv', sep = '\\t', names = ['id', 'rating', 'review_text'])\n",
    "\n",
    "review_data = pd.concat([review_data_0, review_data_1, review_data_2, review_data_3], axis = 0)\n"
   ]
  },
  {
   "cell_type": "code",
   "execution_count": 18,
   "id": "689a7277",
   "metadata": {},
   "outputs": [],
   "source": [
    "# merge product_data, review_data\n",
    "dataset = pd.merge(product_data, review_data, on = 'id')"
   ]
  },
  {
   "cell_type": "code",
   "execution_count": 20,
   "id": "3a3a69a5",
   "metadata": {},
   "outputs": [],
   "source": [
    "# Split features and target variable\n",
    "y = dataset['category']\n",
    "X = dataset.drop(['id', 'category'], axis = 1)"
   ]
  },
  {
   "cell_type": "code",
   "execution_count": 23,
   "id": "ee9990cd",
   "metadata": {},
   "outputs": [],
   "source": [
    "# feature processing\n",
    "vectorizer = TfidfVectorizer()\n",
    "X = vectorizer.fit_transform(X['product_title'] + ' ' + X['review_text'])"
   ]
  },
  {
   "cell_type": "code",
   "execution_count": 28,
   "id": "87e47f21",
   "metadata": {},
   "outputs": [],
   "source": [
    "X_train, X_test, y_train, y_test = train_test_split(X, y, test_size=0.2, random_state=42)\n"
   ]
  },
  {
   "cell_type": "code",
   "execution_count": 30,
   "id": "d33d2078",
   "metadata": {},
   "outputs": [
    {
     "data": {
      "text/plain": [
       "LogisticRegression()"
      ]
     },
     "execution_count": 30,
     "metadata": {},
     "output_type": "execute_result"
    }
   ],
   "source": [
    "# training\n",
    "\n",
    "lr = LogisticRegression()\n",
    "lr.fit(X_train, y_train)"
   ]
  },
  {
   "cell_type": "code",
   "execution_count": 33,
   "id": "98347769",
   "metadata": {},
   "outputs": [],
   "source": [
    "# predicting\n",
    "y_pred = lr.predict(X_test)\n",
    "y_prob = lr.predict_proba(X_test)"
   ]
  },
  {
   "cell_type": "code",
   "execution_count": 35,
   "id": "f18241a6",
   "metadata": {},
   "outputs": [
    {
     "name": "stdout",
     "output_type": "stream",
     "text": [
      "accuracy_score:  0.900398406374502\n"
     ]
    }
   ],
   "source": [
    "# Evaluate model performance\n",
    "print('accuracy_score: ',accuracy_score(y_test,y_pred))\n"
   ]
  },
  {
   "cell_type": "code",
   "execution_count": null,
   "id": "fdb1fe26",
   "metadata": {},
   "outputs": [],
   "source": []
  }
 ],
 "metadata": {
  "kernelspec": {
   "display_name": "Python 3 (ipykernel)",
   "language": "python",
   "name": "python3"
  },
  "language_info": {
   "codemirror_mode": {
    "name": "ipython",
    "version": 3
   },
   "file_extension": ".py",
   "mimetype": "text/x-python",
   "name": "python",
   "nbconvert_exporter": "python",
   "pygments_lexer": "ipython3",
   "version": "3.9.7"
  }
 },
 "nbformat": 4,
 "nbformat_minor": 5
}
